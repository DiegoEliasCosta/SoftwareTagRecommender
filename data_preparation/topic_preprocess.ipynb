{
 "cells": [
  {
   "cell_type": "markdown",
   "metadata": {},
   "source": [
    "# Welcome "
   ]
  },
  {
   "cell_type": "markdown",
   "metadata": {},
   "source": [
    "## Import and Initialize "
   ]
  },
  {
   "cell_type": "code",
   "execution_count": null,
   "metadata": {},
   "outputs": [],
   "source": [
    "import pandas as pd \n",
    "import json\n",
    "import re\n",
    "from nltk.corpus import wordnet as wn\n",
    "from nltk.corpus import words as w\n",
    "from nltk.corpus import stopwords \n",
    "from nltk.stem import PorterStemmer\n",
    "from nltk.stem import WordNetLemmatizer \n",
    "\n",
    "\n",
    "import matplotlib.pyplot as plt\n",
    "import numpy as np\n",
    "from matplotlib import colors\n",
    "from matplotlib.ticker import PercentFormatter\n",
    "import matplotlib.pyplot as plt\n",
    "import seaborn as sns\n",
    "sns.set_style('whitegrid')\n",
    "%matplotlib inline"
   ]
  },
  {
   "cell_type": "code",
   "execution_count": null,
   "metadata": {},
   "outputs": [],
   "source": [
    "stops = stopwords.words(\"english\")\n",
    "words = w.words()\n",
    "wordswn = wn.words()\n",
    "ps = PorterStemmer()\n",
    "lemmatizer = WordNetLemmatizer() "
   ]
  },
  {
   "cell_type": "code",
   "execution_count": null,
   "metadata": {},
   "outputs": [],
   "source": [
    "input_file = \"home/siyanew/ase/github_topic/data/final_readme_more_10_star.csv\"\n",
    "rules_directory = \"home/siyanew/ase/github_topic/data/rules\""
   ]
  },
  {
   "cell_type": "markdown",
   "metadata": {},
   "source": [
    "# Apply Function 😎️"
   ]
  },
  {
   "cell_type": "code",
   "execution_count": null,
   "metadata": {},
   "outputs": [],
   "source": [
    "def apply_csv(file_name, df):\n",
    "    edit_list = {}\n",
    "    with open(file_name) as file:\n",
    "        for line in file.read().strip('\\n').split('\\n'):\n",
    "            items = line.strip(',').split(',')\n",
    "            edit_list[items[1].lower()] = list(map(lambda x:x.lower(),items[2:]))\n",
    "    all_t = set()\n",
    "    def make_topics(topics):\n",
    "        result = []\n",
    "        for t in topics.split(','):\n",
    "            if t.strip() == '':\n",
    "                continue\n",
    "            if t in edit_list:\n",
    "                all_t.add(edit_list[t][0])\n",
    "                if edit_list[t][0] == '-1':\n",
    "                    continue\n",
    "                elif edit_list[t][0] == '-2':\n",
    "                    result.append(t)\n",
    "                    continue\n",
    "                result.extend(edit_list[t])\n",
    "            else:\n",
    "                result.append(t)\n",
    "        return \",\".join(list(set(result)))\n",
    "    \n",
    "    df.topics = df.topics.apply(make_topics)\n",
    "    df = df[df.topics!='']\n",
    "    return df"
   ]
  },
  {
   "cell_type": "code",
   "execution_count": null,
   "metadata": {},
   "outputs": [],
   "source": [
    "def aggregate_topics(file_name, df):\n",
    "    edit_list = []\n",
    "    with open(file_name) as file:\n",
    "        for line in file.read().strip('\\n').split('\\n'):\n",
    "            items = line.strip(',').split(',')\n",
    "            # edit_list.append(([ps.stem(x) for x in items[2:]],ps.stem(items[1])))\n",
    "            edit_list.append(([x.lower().strip() for x in items[2:]],items[1].lower().strip()))\n",
    "    all_t = set()\n",
    "    def make_topics(topics):\n",
    "        result = []\n",
    "        deleted = []\n",
    "        # topics = [ps.stem(x) for x in topics.split(',')]\n",
    "        topics = [x for x in topics.split(',')]\n",
    "        for abr in edit_list:\n",
    "            if set(abr[0]) & set(topics) == set(abr[0]):\n",
    "                all_t.add(abr[1])\n",
    "                deleted.extend(list(abr[0]))\n",
    "                result.append(abr[1])\n",
    "        for del_topics in set(deleted):\n",
    "            topics.remove(del_topics)\n",
    "        result.extend(topics)\n",
    "        return \",\".join(list(set(result)))\n",
    "    \n",
    "    df.topics = df.topics.apply(make_topics)\n",
    "    \n",
    "    return df"
   ]
  },
  {
   "cell_type": "code",
   "execution_count": null,
   "metadata": {},
   "outputs": [],
   "source": [
    "def aggregate_two_topics(file_name, df):\n",
    "    edit_list = {}\n",
    "    with open(file_name) as file:\n",
    "        for line in file.read().strip('\\n').split('\\n'):\n",
    "            items = line.rstrip(',').split(',')\n",
    "            # edit_list.append(([ps.stem(x) for x in items[2:]],ps.stem(items[1])))\n",
    "            edit_list[items[2].lower().strip()] = items[1].lower().strip()\n",
    "    all_t = set()\n",
    "    def make_topics(topics):\n",
    "        result = []\n",
    "        topics = [x for x in topics.split(',')]\n",
    "        for topic in topics:\n",
    "            if topic in edit_list:\n",
    "                all_t.add(topic)\n",
    "                result.append(edit_list[topic])\n",
    "            else:\n",
    "                result.append(topic)\n",
    "        return \",\".join(list(set(result)))\n",
    "    \n",
    "    df.topics = df.topics.apply(make_topics)\n",
    "    return df"
   ]
  },
  {
   "cell_type": "code",
   "execution_count": null,
   "metadata": {},
   "outputs": [],
   "source": [
    "def make_col(file_name, df,col,edit_list=None):\n",
    "    if not edit_list:\n",
    "        edit_list = []\n",
    "        with open(file_name) as file:\n",
    "            for line in file.read().strip('\\n').split('\\n'):\n",
    "                item = line.strip(',').split(',')\n",
    "                edit_list.append(item[0].lower().strip())\n",
    "        \n",
    "    def make_topics(topics):\n",
    "        result = []\n",
    "        topics = [x for x in topics.split(',')]\n",
    "        for topic in topics:\n",
    "            if topic in edit_list:\n",
    "                result.append(topic)\n",
    "        return \",\".join(list(set(result)))\n",
    "    \n",
    "    df[col] = df.topics.apply(make_topics)\n",
    "    return df"
   ]
  },
  {
   "cell_type": "markdown",
   "metadata": {},
   "source": [
    "## Start Cleaning"
   ]
  },
  {
   "cell_type": "code",
   "execution_count": null,
   "metadata": {},
   "outputs": [],
   "source": [
    "df['original_topics'] = df.topics"
   ]
  },
  {
   "cell_type": "code",
   "execution_count": null,
   "metadata": {},
   "outputs": [],
   "source": [
    "df = df[df.stars>=10]"
   ]
  },
  {
   "cell_type": "code",
   "execution_count": null,
   "metadata": {},
   "outputs": [],
   "source": [
    "df = apply_csv(f'{rules_directory}/topics_contains_version.csv',df)"
   ]
  },
  {
   "cell_type": "code",
   "execution_count": null,
   "metadata": {},
   "outputs": [],
   "source": [
    "df = apply_csv(f'{rules_directory}/topics_contains_number.csv', df)"
   ]
  },
  {
   "cell_type": "code",
   "execution_count": null,
   "metadata": {},
   "outputs": [],
   "source": [
    "df = apply_csv('f'{rules_directory}/split_dash_topics.csv',df)"
   ]
  },
  {
   "cell_type": "code",
   "execution_count": null,
   "metadata": {},
   "outputs": [],
   "source": [
    "df = apply_csv(f'{rules_directory}/contains_top_topics.csv',df)"
   ]
  },
  {
   "cell_type": "code",
   "execution_count": null,
   "metadata": {},
   "outputs": [],
   "source": [
    "df = apply_csv(f'{rules_directory}/remove_plural_topics.csv', df)"
   ]
  },
  {
   "cell_type": "code",
   "execution_count": null,
   "metadata": {},
   "outputs": [],
   "source": [
    "df = apply_csv(f'{rules_directory}/contains_selected_topics.csv',df)"
   ]
  },
  {
   "cell_type": "code",
   "execution_count": null,
   "metadata": {},
   "outputs": [],
   "source": [
    "df = apply_csv(f'{rules_directory}/contractions.csv',df)"
   ]
  },
  {
   "cell_type": "code",
   "execution_count": null,
   "metadata": {},
   "outputs": [],
   "source": [
    "df = apply_csv(f'{rules_directory}/remove_stopwords_topic.csv',df)"
   ]
  },
  {
   "cell_type": "code",
   "execution_count": null,
   "metadata": {},
   "outputs": [],
   "source": [
    "df = apply_csv(f'{rules_directory}/remove_lemmatize_topic.csv',df)"
   ]
  },
  {
   "cell_type": "code",
   "execution_count": null,
   "metadata": {},
   "outputs": [],
   "source": [
    "df = aggregate_two_topics(f'{rules_directory}/replace.csv\",df)"
   ]
  },
  {
   "cell_type": "code",
   "execution_count": null,
   "metadata": {},
   "outputs": [],
   "source": [
    "df = aggregate_topics(f'{rules_directory}/abbr.csv\",df)"
   ]
  },
  {
   "cell_type": "code",
   "execution_count": null,
   "metadata": {},
   "outputs": [],
   "source": [
    "df = apply_csv(f'{rules_directory}/delete.csv',df)"
   ]
  },
  {
   "cell_type": "code",
   "execution_count": null,
   "metadata": {},
   "outputs": [],
   "source": []
  },
  {
   "cell_type": "markdown",
   "metadata": {},
   "source": [
    "## Remove low frequency topics \n",
    "Remove topics which have less frequnecy than threshold"
   ]
  },
  {
   "cell_type": "code",
   "execution_count": null,
   "metadata": {},
   "outputs": [],
   "source": [
    "def remove_low_freq_topics(file_name,threshold=20):\n",
    "    _ = list(df.topics.map(lambda x: x.split(',')))\n",
    "    _ = [i for s in _ for i in s]\n",
    "    topics_list = set(_)\n",
    "    topics_freq = {}\n",
    "    def add_to_dict(x):\n",
    "        if x in topics_freq:\n",
    "            topics_freq[x] += 1\n",
    "        else:\n",
    "            topics_freq[x] = 1\n",
    "    for x in _:\n",
    "        add_to_dict(x)\n",
    "    counter = 0\n",
    "    topics_freq_list = list(topics_freq.items())\n",
    "    with open(file_name,\"w\") as file:\n",
    "        for t, _ in topics_freq_list:\n",
    "            if _ < threshold:\n",
    "                file.write(f\"{counter},{t},-1,\\n\")\n",
    "                counter += 1\n",
    "    return file_name, counter"
   ]
  },
  {
   "cell_type": "code",
   "execution_count": null,
   "metadata": {},
   "outputs": [],
   "source": [
    "remove_low_freq_topics(f'{rules_directory}/low_freq_topics.csv',50)\n",
    "df = apply_csv(f'{rules_directory}/low_freq_topics.csv',df)"
   ]
  },
  {
   "cell_type": "markdown",
   "metadata": {},
   "source": [
    "## Remove topics contains version numbering in their name\n",
    "\n",
    "Remove topics which contains version and numbers for example: ipv6, htmlv5"
   ]
  },
  {
   "cell_type": "code",
   "execution_count": null,
   "metadata": {},
   "outputs": [],
   "source": [
    "def remove_topics_contains_version(file_name):\n",
    "    _ = list(df.topics.map(lambda x: x.split(',')))\n",
    "    _ = [i for s in _ for i in s]\n",
    "    topics_list = set(_)\n",
    "    \n",
    "    counter = 0\n",
    "    with open(file_name,\"w\") as file:\n",
    "        for t in topics_list:\n",
    "            if re.search(\"v[\\d\\.]+\",t):\n",
    "                _ = re.sub(r'v[\\d\\.]+', '', t).strip('-').strip()\n",
    "                if _ == '':\n",
    "                    file.write(f'{t},-1,\\n')\n",
    "                else:\n",
    "                    file.write(f\"{t},{_.replace('--','-')},\\n\")\n",
    "                counter += 1\n",
    "    return file_name, counter\n"
   ]
  },
  {
   "cell_type": "code",
   "execution_count": null,
   "metadata": {},
   "outputs": [],
   "source": [
    "remove_topics_contains_version(f'{rules_directory}/topics_contains_version.csv')"
   ]
  },
  {
   "cell_type": "markdown",
   "metadata": {},
   "source": [
    "## Remove numbers from topics\n"
   ]
  },
  {
   "cell_type": "markdown",
   "metadata": {},
   "source": [
    "Remove numbers from topics which contains numbers for example: css3"
   ]
  },
  {
   "cell_type": "code",
   "execution_count": null,
   "metadata": {},
   "outputs": [],
   "source": [
    "def remove_topics_contains_digit(file_name):\n",
    "    _ = list(df.topics.map(lambda x: x.split(',')))\n",
    "    _ = [i for s in _ for i in s]\n",
    "    topics_list = set(_)\n",
    "    topics_freq = {}\n",
    "    def add_to_dict(x):\n",
    "        if x in topics_freq:\n",
    "            topics_freq[x] += 1\n",
    "        else:\n",
    "            topics_freq[x] = 1\n",
    "    for x in _:\n",
    "        add_to_dict(x)\n",
    "    counter = 0\n",
    "    with open(file_name,\"w\") as file:\n",
    "        has_number = lambda x: any(c.isdigit() for c in x)\n",
    "        for t in topics_list:\n",
    "            if has_number(t):\n",
    "                _ = re.sub(r'\\d+', '', t).strip('-').strip().replace('--','-')\n",
    "                if _ == '':\n",
    "                    file.write(f'{topics_freq[t]},{t},-1,\\n')\n",
    "                else:\n",
    "                    file.write(f\"{topics_freq[t]},{t},{_},\\n\")\n",
    "                counter += 1\n",
    "    return file_name, counter"
   ]
  },
  {
   "cell_type": "code",
   "execution_count": null,
   "metadata": {},
   "outputs": [],
   "source": [
    "remove_topics_contains_digit(f'{rules_directory}/topics_contains_number.csv')"
   ]
  },
  {
   "cell_type": "markdown",
   "metadata": {},
   "source": [
    "## Remove plural topics\n"
   ]
  },
  {
   "cell_type": "markdown",
   "metadata": {},
   "source": [
    "Remove s at the end of topics name: for example: it converts modules to module"
   ]
  },
  {
   "cell_type": "code",
   "execution_count": null,
   "metadata": {},
   "outputs": [],
   "source": [
    "def remove_plural_topics(file_name):\n",
    "    _ = list(df.topics.map(lambda x: x.split(',')))\n",
    "    _ = [i for s in _ for i in s]\n",
    "    topics_list = set(_)\n",
    "    topics_freq = {}\n",
    "    def add_to_dict(x):\n",
    "        if x in topics_freq:\n",
    "            topics_freq[x] += 1\n",
    "        else:\n",
    "            topics_freq[x] = 1\n",
    "    for x in _:\n",
    "        add_to_dict(x)\n",
    "    counter = 0\n",
    "    with open(file_name,\"w\") as file:\n",
    "        for t in topics_list:\n",
    "            if t.endswith('s') and t[:-1] in topics_list:\n",
    "                file.write(f\"{topics_freq[t]},{t},{t[:-1]},{topics_freq[t[:-1]]},\\n\")\n",
    "                counter += 1\n",
    "    return file_name, counter"
   ]
  },
  {
   "cell_type": "code",
   "execution_count": null,
   "metadata": {},
   "outputs": [],
   "source": [
    "remove_plural_topics(f'{rules_directory}/remove_plural_topics.csv')"
   ]
  },
  {
   "cell_type": "markdown",
   "metadata": {},
   "source": [
    "## Remove - and split topics"
   ]
  },
  {
   "cell_type": "code",
   "execution_count": null,
   "metadata": {},
   "outputs": [],
   "source": [
    "def split_dash_topics(file_name):\n",
    "    _ = list(df.topics.map(lambda x: x.split(',')))\n",
    "    _ = [i for s in _ for i in s]\n",
    "    topics_list = set(_)\n",
    "    topics_freq = {}\n",
    "    def add_to_dict(x):\n",
    "        if x in topics_freq:\n",
    "            topics_freq[x] += 1\n",
    "        else:\n",
    "            topics_freq[x] = 1\n",
    "    for x in _:\n",
    "        add_to_dict(x)\n",
    "    counter = 0\n",
    "    with open(file_name,\"w\") as file:\n",
    "        for t in topics_list:\n",
    "            if '-' in t:\n",
    "                file.write(f\"{topics_freq[t]},{t},{','.join(t.split('-'))},\\n\")\n",
    "                counter += 1\n",
    "    return file_name, counter"
   ]
  },
  {
   "cell_type": "code",
   "execution_count": null,
   "metadata": {},
   "outputs": [],
   "source": [
    "split_dash_topics(f'{rules_directory}/split_dash_topics.csv')"
   ]
  },
  {
   "cell_type": "markdown",
   "metadata": {},
   "source": [
    "## Remove topics that include top topics "
   ]
  },
  {
   "cell_type": "code",
   "execution_count": null,
   "metadata": {},
   "outputs": [],
   "source": [
    "def remove_topics_contains_top_topics(file_name,threshold=200):\n",
    "    _ = list(df.topics.map(lambda x: x.split(',')))\n",
    "    _ = [i for s in _ for i in s]\n",
    "    topics_list = set(_)\n",
    "    topics_freq = {}\n",
    "    def add_to_dict(x):\n",
    "        if x in topics_freq:\n",
    "            topics_freq[x] += 1\n",
    "        else:\n",
    "            topics_freq[x] = 1\n",
    "    for x in _:\n",
    "        add_to_dict(x)\n",
    "    counter = 0\n",
    "    topics_freq_list = list(topics_freq.items())\n",
    "    topics_freq_list.sort(key=lambda x: x[1], reverse=True)\n",
    "    with open(file_name,\"w\") as file:\n",
    "        for top_topic,_ in topics_freq_list[:threshold]:\n",
    "            for t,__ in topics_freq_list[threshold:]:\n",
    "                if top_topic in t:\n",
    "                    file.write(f\"{topics_freq[t]},{t},{top_topic},{t.replace(top_topic,'').replace('--','-').strip('-')},\\n\")\n",
    "                    counter += 1\n",
    "    return file_name, counter"
   ]
  },
  {
   "cell_type": "code",
   "execution_count": null,
   "metadata": {},
   "outputs": [],
   "source": [
    "remove_topics_contains_top_topics(f'{rules_directory}/contains_top_topics.csv')"
   ]
  },
  {
   "cell_type": "markdown",
   "metadata": {},
   "source": [
    "## Remove topics that include selected topics "
   ]
  },
  {
   "cell_type": "markdown",
   "metadata": {},
   "source": [
    "Remove selected names from topics for example : remove module from magento module"
   ]
  },
  {
   "cell_type": "code",
   "execution_count": null,
   "metadata": {},
   "outputs": [],
   "source": [
    "selected_topics = \"\"\"\n",
    "extension module  example  package provider plugin\n",
    "manager development demo assistant config \n",
    "\"\"\"\n",
    "# app cli"
   ]
  },
  {
   "cell_type": "code",
   "execution_count": null,
   "metadata": {},
   "outputs": [],
   "source": [
    "def remove_topics_contains_selected_topics(file_name,threshold=200):\n",
    "    _ = list(df.topics.map(lambda x: x.split(',')))\n",
    "    _ = [i for s in _ for i in s]\n",
    "    topics_list = set(_)\n",
    "    topics_freq = {}\n",
    "    def add_to_dict(x):\n",
    "        if x in topics_freq:\n",
    "            topics_freq[x] += 1\n",
    "        else:\n",
    "            topics_freq[x] = 1\n",
    "    for x in _:\n",
    "        add_to_dict(x)\n",
    "    counter = 0\n",
    "    topics_freq_list = list(topics_freq.items())\n",
    "    topics_freq_list.sort(key=lambda x: x[1], reverse=True)\n",
    "    with open(file_name,\"w\") as file:\n",
    "        for top_topic in selected_topics.split():\n",
    "            for t,__ in topics_freq_list[threshold:]:\n",
    "                if top_topic in t and t != top_topic:\n",
    "                    file.write(f\"{topics_freq[t]},{t},{top_topic},{t.replace(top_topic,'').replace('--','-').strip('-')},\\n\")\n",
    "                    counter += 1\n",
    "    return file_name, counter"
   ]
  },
  {
   "cell_type": "code",
   "execution_count": null,
   "metadata": {},
   "outputs": [],
   "source": [
    "remove_topics_contains_selected_topics(f'{rules_directory}/contains_selected_topics.csv')"
   ]
  },
  {
   "cell_type": "markdown",
   "metadata": {},
   "source": [
    "## Stopwords topic"
   ]
  },
  {
   "cell_type": "code",
   "execution_count": null,
   "metadata": {},
   "outputs": [],
   "source": [
    "def remove_stopwords_topic(file_name):\n",
    "    _ = list(df.topics.map(lambda x: x.split(',')))\n",
    "    _ = [i for s in _ for i in s]\n",
    "    topics_list = set(_)\n",
    "    topics_freq = {}\n",
    "    def add_to_dict(x):\n",
    "        if x in topics_freq:\n",
    "            topics_freq[x] += 1\n",
    "        else:\n",
    "            topics_freq[x] = 1\n",
    "    for x in _:\n",
    "        add_to_dict(x)\n",
    "    counter = 0\n",
    "    with open(file_name,\"w\") as file:\n",
    "        for t in (set(_) & set(stops)):\n",
    "            file.write(f'{topics_freq[t]},{t},-1,\\n')\n",
    "            counter += 1\n",
    "    return file_name, counter\n",
    "            "
   ]
  },
  {
   "cell_type": "code",
   "execution_count": null,
   "metadata": {},
   "outputs": [],
   "source": [
    "remove_stopwords_topic(f'{rules_directory}/remove_stopwords_topic.csv')"
   ]
  },
  {
   "cell_type": "markdown",
   "metadata": {},
   "source": [
    "## Stems topic"
   ]
  },
  {
   "cell_type": "code",
   "execution_count": null,
   "metadata": {},
   "outputs": [],
   "source": [
    "def remove_stemmed_topic(file_name):\n",
    "    _ = list(df.topics.map(lambda x: x.split(',')))\n",
    "    _ = [i for s in _ for i in s]\n",
    "    topics_list = set(_)\n",
    "    topics_freq = {}\n",
    "    def add_to_dict(x):\n",
    "        if x in topics_freq:\n",
    "            topics_freq[x] += 1\n",
    "        else:\n",
    "            topics_freq[x] = 1\n",
    "    for x in _:\n",
    "        add_to_dict(x)\n",
    "    counter = 0\n",
    "    with open(file_name,\"w\") as file:\n",
    "        for t in topics_list:\n",
    "            st = ps.stem(t)\n",
    "            if st in topics_freq and t!=st:\n",
    "                file.write(f'{topics_freq[t]},{t},{st},{topics_freq[st]},\\n')\n",
    "                counter += 1\n",
    "    return file_name, counter\n",
    "            "
   ]
  },
  {
   "cell_type": "code",
   "execution_count": null,
   "metadata": {},
   "outputs": [],
   "source": [
    "remove_stemmed_topic(f'{rules_directory}/remove_stemmed_topic.csv')"
   ]
  },
  {
   "cell_type": "markdown",
   "metadata": {},
   "source": [
    "## Lemmatize"
   ]
  },
  {
   "cell_type": "code",
   "execution_count": null,
   "metadata": {},
   "outputs": [],
   "source": [
    "def remove_lemmatize_topic(file_name):\n",
    "    _ = list(df.topics.map(lambda x: x.split(',')))\n",
    "    _ = [i for s in _ for i in s]\n",
    "    topics_list = set(_)\n",
    "    topics_freq = {}\n",
    "    def add_to_dict(x):\n",
    "        if x in topics_freq:\n",
    "            topics_freq[x] += 1\n",
    "        else:\n",
    "            topics_freq[x] = 1\n",
    "    for x in _:\n",
    "        add_to_dict(x)\n",
    "    counter = 0\n",
    "    with open(file_name,\"w\") as file:\n",
    "        for t in topics_list:\n",
    "            st = lemmatizer.lemmatize(t)\n",
    "            if st != t:\n",
    "                file.write(f'{topics_freq[t]},{t},{st},{topics_freq.get(st)},\\n')\n",
    "                counter += 1\n",
    "    return file_name, counter"
   ]
  },
  {
   "cell_type": "code",
   "execution_count": null,
   "metadata": {},
   "outputs": [],
   "source": [
    "remove_lemmatize_topic(f'{rules_directory}/remove_lemmatize_topic.csv')"
   ]
  }
 ],
 "metadata": {
  "kernelspec": {
   "display_name": "Python 3",
   "language": "python",
   "name": "python3"
  },
  "language_info": {
   "codemirror_mode": {
    "name": "ipython",
    "version": 3
   },
   "file_extension": ".py",
   "mimetype": "text/x-python",
   "name": "python",
   "nbconvert_exporter": "python",
   "pygments_lexer": "ipython3",
   "version": "3.6.7"
  }
 },
 "nbformat": 4,
 "nbformat_minor": 2
}
