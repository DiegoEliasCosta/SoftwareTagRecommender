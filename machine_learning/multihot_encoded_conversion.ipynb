{
 "cells": [
  {
   "cell_type": "code",
   "execution_count": null,
   "metadata": {},
   "outputs": [],
   "source": [
    "import pandas as pd\n",
    "from sklearn.preprocessing import MultiLabelBinarizer"
   ]
  },
  {
   "cell_type": "code",
   "execution_count": null,
   "metadata": {},
   "outputs": [],
   "source": [
    "#load dataset\n",
    "df = pd.read_csv('../data/repos.csv')"
   ]
  },
  {
   "cell_type": "code",
   "execution_count": null,
   "metadata": {},
   "outputs": [],
   "source": [
    "# set the columns of dataset\n",
    "topics_col = 'github_topics_top'\n",
    "df[topics_col] = train_df[topics_col].astype(str)"
   ]
  },
  {
   "cell_type": "code",
   "execution_count": null,
   "metadata": {},
   "outputs": [],
   "source": [
    "#since the delimiter in this column is ',' and not space.\n",
    "df[topics_col] = df[topics_col].apply(lambda x:x.split(','))\n",
    "mlb = MultiLabelBinarizer()\n",
    "one_hot_encoded_train = mlb.fit_transform(df[topics_col])\n",
    "df = df.join(pd.DataFrame(one_hot_encoded_train, columns = mlb.classes_, index=df.index))\n",
    "print(mlb.classes_)"
   ]
  },
  {
   "cell_type": "code",
   "execution_count": null,
   "metadata": {},
   "outputs": [],
   "source": [
    "#add text and labels columns for transformers\n",
    "print([s for s in list(df.columns) if \"text\" in s])\n",
    "print([s for s in list(df.columns) if \"label\" in s])\n",
    "\n",
    "#to preventing mixing with simpletransformer columns\n",
    "df = df.rename(columns = {'label': 'label_tag'})\n",
    "df = df.rename(columns = {'text': 'text_tag'})\n",
    "df['labels'] = pd.Series(list(one_hot_encoded_train), index=df.index)"
   ]
  }
 ],
 "metadata": {
  "kernelspec": {
   "display_name": "Python 3",
   "language": "python",
   "name": "python3"
  },
  "language_info": {
   "codemirror_mode": {
    "name": "ipython",
    "version": 3
   },
   "file_extension": ".py",
   "mimetype": "text/x-python",
   "name": "python",
   "nbconvert_exporter": "python",
   "pygments_lexer": "ipython3",
   "version": "3.6.9"
  }
 },
 "nbformat": 4,
 "nbformat_minor": 4
}
